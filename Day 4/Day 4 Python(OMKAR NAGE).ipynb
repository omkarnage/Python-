{
 "cells": [
  {
   "cell_type": "markdown",
   "metadata": {},
   "source": [
    "# Q.1 find all occurrence of a substring in the given string and index value"
   ]
  },
  {
   "cell_type": "code",
   "execution_count": 8,
   "metadata": {},
   "outputs": [
    {
     "name": "stdout",
     "output_type": "stream",
     "text": [
      "Number of times the substring (we) occurs is: 3\n",
      "The first occurrence of (we) is: 5\n"
     ]
    }
   ],
   "source": [
    "# 1.EXAMPLE\n",
    "str = \"What we think is what we become. we are python programmer\" # FIND INDEX VALUE\n",
    "\n",
    "a = str.count(\"we\")\n",
    "print(\"Number of times the substring (we) occurs is:\",a)\n",
    "\n",
    "b =str.find(\"we\") # index number of first variable (we )\n",
    "print(\"The first occurrence of (we) is:\",b)"
   ]
  },
  {
   "cell_type": "code",
   "execution_count": 12,
   "metadata": {},
   "outputs": [
    {
     "name": "stdout",
     "output_type": "stream",
     "text": [
      "Positions at which (we) occurs are: 33\n"
     ]
    }
   ],
   "source": [
    "c=str.rfind(\"we\") #index number of end variable (we)\n",
    "print(\"Positions at which (we) occurs are:\",c)"
   ]
  },
  {
   "cell_type": "code",
   "execution_count": 13,
   "metadata": {},
   "outputs": [
    {
     "name": "stdout",
     "output_type": "stream",
     "text": [
      "Positions at which (we) occurs are: 22\n"
     ]
    }
   ],
   "source": [
    "d =str.find(\"we\",21,24) # index number of middle variable (we)\n",
    "print(\"Positions at which (we) occurs are:\",d)"
   ]
  },
  {
   "cell_type": "code",
   "execution_count": 43,
   "metadata": {},
   "outputs": [
    {
     "data": {
      "text/plain": [
       "5"
      ]
     },
     "execution_count": 43,
     "metadata": {},
     "output_type": "execute_result"
    }
   ],
   "source": [
    "# Index function ()\n",
    "str.index(\"we\") "
   ]
  },
  {
   "cell_type": "code",
   "execution_count": 40,
   "metadata": {},
   "outputs": [
    {
     "data": {
      "text/plain": [
       "22"
      ]
     },
     "execution_count": 40,
     "metadata": {},
     "output_type": "execute_result"
    }
   ],
   "source": [
    "str.index(\"we\",21,24) "
   ]
  },
  {
   "cell_type": "code",
   "execution_count": 27,
   "metadata": {},
   "outputs": [
    {
     "data": {
      "text/plain": [
       "1"
      ]
     },
     "execution_count": 27,
     "metadata": {},
     "output_type": "execute_result"
    }
   ],
   "source": [
    "# 2 EXAMPLE\n",
    "a = \"Praise the Lord\"\n",
    "a.find(\"r\")"
   ]
  },
  {
   "cell_type": "code",
   "execution_count": 28,
   "metadata": {},
   "outputs": [
    {
     "data": {
      "text/plain": [
       "13"
      ]
     },
     "execution_count": 28,
     "metadata": {},
     "output_type": "execute_result"
    }
   ],
   "source": [
    "a.rfind(\"r\")"
   ]
  },
  {
   "cell_type": "markdown",
   "metadata": {},
   "source": [
    "# Q.2 Python string islower & isupper() method"
   ]
  },
  {
   "cell_type": "code",
   "execution_count": 25,
   "metadata": {},
   "outputs": [
    {
     "name": "stdout",
     "output_type": "stream",
     "text": [
      "Is the string in lowercase: False\n",
      "Is the string in lowercase: True\n",
      "False\n",
      "False\n"
     ]
    }
   ],
   "source": [
    "# ISLOWER () METHOD\n",
    "a = \"Letsupgrade\"\n",
    "b = \"mohit raj sir\"\n",
    "c = \"Day 4\"\n",
    "d = \"PYTHON 7\"\n",
    "\n",
    "print(\"Is the string in lowercase:\",a.islower())\n",
    "print(\"Is the string in lowercase:\",b.islower())\n",
    "print(c.islower())\n",
    "print(d.islower())"
   ]
  },
  {
   "cell_type": "code",
   "execution_count": 27,
   "metadata": {},
   "outputs": [
    {
     "name": "stdout",
     "output_type": "stream",
     "text": [
      "Is the string in isupercase: False\n",
      "Is the string in isupercase: True\n",
      "False\n",
      "True\n"
     ]
    }
   ],
   "source": [
    "#ISUPPER () METHOD \n",
    "a = \"Letsupgrade\"\n",
    "b = \"MOTHIR RAJ SIR\"\n",
    "c = \"Day 4\"\n",
    "d = \"PYTHON 7\"\n",
    "\n",
    "print(\"Is the string in isupercase:\",a.isupper())\n",
    "print(\"Is the string in isupercase:\",b.isupper())\n",
    "print(c.isupper())\n",
    "print(d.isupper())"
   ]
  }
 ],
 "metadata": {
  "kernelspec": {
   "display_name": "Python 3",
   "language": "python",
   "name": "python3"
  },
  "language_info": {
   "codemirror_mode": {
    "name": "ipython",
    "version": 3
   },
   "file_extension": ".py",
   "mimetype": "text/x-python",
   "name": "python",
   "nbconvert_exporter": "python",
   "pygments_lexer": "ipython3",
   "version": "3.7.6"
  }
 },
 "nbformat": 4,
 "nbformat_minor": 4
}
