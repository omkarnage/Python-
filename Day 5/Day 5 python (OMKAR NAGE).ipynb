{
 "cells": [
  {
   "cell_type": "markdown",
   "metadata": {},
   "source": [
    " ### Assignment 1 \n",
    " ### [0,1,2,10,4,1,0,56,2,0,1,3,0,56,0,4]\n",
    "    \n",
    " ### sort by increasing order but all zero should be at right hand side"
   ]
  },
  {
   "cell_type": "code",
   "execution_count": 20,
   "metadata": {},
   "outputs": [
    {
     "name": "stdout",
     "output_type": "stream",
     "text": [
      "The the storted list: [0, 0, 0, 0, 0, 1, 1, 1, 2, 2, 3, 4, 4, 10, 56, 56]\n",
      "The sorted list with zeros at the right hand side is: [1, 1, 1, 2, 2, 3, 4, 4, 10, 56, 56, 0, 0, 0, 0]\n"
     ]
    }
   ],
   "source": [
    "list=[0,1,2,10,4,1,0,56,2,0,1,3,0,56,0,4]\n",
    "list.sort()\n",
    "print(\"The the storted list:\",list)\n",
    "for i in list[:]:\n",
    "    if i==0:\n",
    "        list.remove(i)\n",
    "\n",
    " # To get zeros on right hand side       \n",
    "list1=[0,0,0,0]\n",
    "list.extend(list1)\n",
    "print(\"The sorted list with zeros at the right hand side is:\",list)\n"
   ]
  },
  {
   "cell_type": "markdown",
   "metadata": {},
   "source": [
    "### Assignment 2 \n",
    "\n",
    "### list1 = [10,20,40,60,70,80] sorted list\n",
    "### list2 = [5,15,25,35,45,60]  sorted list\n",
    "### merge these two sorted lists produce one sorted list, but use only one loop either while or for but only one time; don't use the sort method\n"
   ]
  },
  {
   "cell_type": "code",
   "execution_count": 18,
   "metadata": {},
   "outputs": [
    {
     "name": "stdout",
     "output_type": "stream",
     "text": [
      "Merged list is:  [10, 20, 40, 60, 70, 80, 5, 15, 25, 35, 45, 60]\n",
      "[5, 10, 15, 20, 25, 35, 40, 45, 60, 60, 70, 80]\n"
     ]
    }
   ],
   "source": [
    "list1 = [10,20,40,60,70,80] \n",
    "list2 = [5,15,25,35,45,60]\n",
    "list1.extend(list2)\n",
    "print(\"Merged list is: \",list1)\n",
    "sorted_list = []\n",
    "while list1:\n",
    "    minimum = list1[0]\n",
    "    for item in list1:\n",
    "        if item < minimum:\n",
    "            minimum = item\n",
    "    sorted_list.append(minimum)\n",
    "    list1.remove(minimum)\n",
    "print(sorted_list)"
   ]
  }
 ],
 "metadata": {
  "kernelspec": {
   "display_name": "Python 3",
   "language": "python",
   "name": "python3"
  },
  "language_info": {
   "codemirror_mode": {
    "name": "ipython",
    "version": 3
   },
   "file_extension": ".py",
   "mimetype": "text/x-python",
   "name": "python",
   "nbconvert_exporter": "python",
   "pygments_lexer": "ipython3",
   "version": "3.7.6"
  }
 },
 "nbformat": 4,
 "nbformat_minor": 4
}
