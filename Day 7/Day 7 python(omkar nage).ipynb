{
 "cells": [
  {
   "cell_type": "markdown",
   "metadata": {},
   "source": [
    "### Question 1"
   ]
  },
  {
   "cell_type": "markdown",
   "metadata": {},
   "source": [
    "Use the dictionary, port1 = {21: \"FTP\", 22:\"SSH\", 23: \"telnet\", 80: \"http\"}, and make a new dictionary in which keys become values and values become keys, as shown: Port2 = {“FTP\":21, \"SSH\":22, “telnet\":23, \"http\": 80}"
   ]
  },
  {
   "cell_type": "code",
   "execution_count": 3,
   "metadata": {},
   "outputs": [
    {
     "name": "stdout",
     "output_type": "stream",
     "text": [
      "Old dictionary is: {21: 'FTP', 22: 'SSH', 23: 'telnet', 80: 'http'}\n",
      "New dictionary is: {'FTP': 21, 'SSH': 22, 'telnet': 23, 'http': 80}\n"
     ]
    }
   ],
   "source": [
    "port1 = {21: \"FTP\", 22:\"SSH\", 23: \"telnet\", 80: \"http\"}\n",
    "print(\"Old dictionary is:\",port1)\n",
    "\n",
    "port2={}\n",
    "for k,v in port1.items():\n",
    "    port2[v]=k\n",
    "print(\"New dictionary is:\",port2)    \n"
   ]
  },
  {
   "cell_type": "markdown",
   "metadata": {},
   "source": [
    "### Question 2"
   ]
  },
  {
   "cell_type": "markdown",
   "metadata": {},
   "source": [
    "Take a list of tuple as shown below. [(1,2), (3,4), (5,6),(4,5)] Make a new list which contains sum of number of tuples. For example Input [(1,2), (3,4), (5,6)]  \n",
    "Out put [3, 7, 11]"
   ]
  },
  {
   "cell_type": "code",
   "execution_count": 3,
   "metadata": {},
   "outputs": [
    {
     "name": "stdout",
     "output_type": "stream",
     "text": [
      "sum of numbers of tuple : [3, 7, 11, 9]\n"
     ]
    }
   ],
   "source": [
    "a=[(1,2),(3,4),(5,6),(4,5)]\n",
    "b=[]\n",
    "for i in a:\n",
    "    b.append(i[0]+i[1]) \n",
    "    \n",
    "    \n",
    "print(\"sum of numbers of tuple :\",b)    "
   ]
  },
  {
   "cell_type": "markdown",
   "metadata": {},
   "source": [
    "### Question 3\n"
   ]
  },
  {
   "cell_type": "markdown",
   "metadata": {},
   "source": [
    "ake a list as shown below [(1,2,3), [1,2], ['a','hit','less']] The List contains tuple and lists. Make the elements of inner lists and tuples to outer list"
   ]
  },
  {
   "cell_type": "code",
   "execution_count": 24,
   "metadata": {},
   "outputs": [
    {
     "name": "stdout",
     "output_type": "stream",
     "text": [
      "The first element type:  <class 'tuple'>\n",
      "The second element type:  <class 'tuple'>\n",
      "The third element type:  <class 'list'>\n"
     ]
    }
   ],
   "source": [
    "o = [(1,2,3),(1,2),['a','hit','less']]\n",
    "print(\"The first element type: \",type(l1[0]))\n",
    "print(\"The second element type: \",type(l1[1]))\n",
    "print(\"The third element type: \",type(l1[2]))\n",
    "\n"
   ]
  },
  {
   "cell_type": "code",
   "execution_count": 25,
   "metadata": {},
   "outputs": [
    {
     "name": "stdout",
     "output_type": "stream",
     "text": [
      "[1, 2, 3, 1, 2, 'a', 'hit', 'less']\n"
     ]
    }
   ],
   "source": [
    "outerlist= [item for i in o \n",
    "             for item in i]\n",
    "print(outerlist)"
   ]
  }
 ],
 "metadata": {
  "kernelspec": {
   "display_name": "Python 3",
   "language": "python",
   "name": "python3"
  },
  "language_info": {
   "codemirror_mode": {
    "name": "ipython",
    "version": 3
   },
   "file_extension": ".py",
   "mimetype": "text/x-python",
   "name": "python",
   "nbconvert_exporter": "python",
   "pygments_lexer": "ipython3",
   "version": "3.7.6"
  }
 },
 "nbformat": 4,
 "nbformat_minor": 4
}
