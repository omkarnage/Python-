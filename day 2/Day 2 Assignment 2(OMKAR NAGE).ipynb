{
 "cells": [
  {
   "cell_type": "code",
   "execution_count": 1,
   "metadata": {},
   "outputs": [
    {
     "name": "stdout",
     "output_type": "stream",
     "text": [
      "Python lesson 2\n"
     ]
    }
   ],
   "source": [
    "print (\"Python lesson 2\")"
   ]
  },
  {
   "cell_type": "code",
   "execution_count": 17,
   "metadata": {},
   "outputs": [
    {
     "name": "stdout",
     "output_type": "stream",
     "text": [
      "lestupgrade   Python\n"
     ]
    }
   ],
   "source": [
    "# USE OF BACK  SLASH(It is used in representing certain whitespace characters)\n",
    "print(\"lestupgrade   \\\n",
    "Python\")"
   ]
  },
  {
   "cell_type": "code",
   "execution_count": 22,
   "metadata": {},
   "outputs": [
    {
     "name": "stdout",
     "output_type": "stream",
     "text": [
      "HELLO WORLD\n",
      "letsupgrade\n",
      "Python\n"
     ]
    }
   ],
   "source": [
    "#USE OF TRIPLE QUOTES(To print a multi-line string in Python )\n",
    "print(\"\"\"HELLO WORLD\n",
    "letsupgrade\n",
    "Python\"\"\")"
   ]
  },
  {
   "cell_type": "code",
   "execution_count": 24,
   "metadata": {},
   "outputs": [
    {
     "name": "stdout",
     "output_type": "stream",
     "text": [
      "Letsupgrade'Python\n"
     ]
    }
   ],
   "source": [
    "# string inside the code\n",
    "print( \"Letsupgrade'Python\")"
   ]
  },
  {
   "cell_type": "code",
   "execution_count": 31,
   "metadata": {},
   "outputs": [
    {
     "name": "stdout",
     "output_type": "stream",
     "text": [
      "omkar\tnage\n",
      "omkar\n",
      "nage\n"
     ]
    }
   ],
   "source": [
    "#Escape sequesnce of string\n",
    "#\\t is a tab character.\n",
    "print(\"omkar\\tnage\")\n",
    "#\\n is a newline character.\n",
    "print(\"omkar\\nnage\")"
   ]
  },
  {
   "cell_type": "code",
   "execution_count": 54,
   "metadata": {},
   "outputs": [
    {
     "name": "stdout",
     "output_type": "stream",
     "text": [
      "lesson python value is  1.5 variable 100\n",
      "lesson python value is 1.500000 variable 100\n"
     ]
    }
   ],
   "source": [
    "#formatted output\n",
    "a= \"python\" #str\n",
    "b= 1.50     #float\n",
    "c= 100      #int\n",
    "print(\"lesson\",a,\"value is \",b,\"variable\",c)\n",
    "print(\"lesson %s value is %f variable %d\"%(a,b,c))"
   ]
  },
  {
   "cell_type": "markdown",
   "metadata": {},
   "source": [
    "# operators \n",
    "  "
   ]
  },
  {
   "cell_type": "code",
   "execution_count": 71,
   "metadata": {},
   "outputs": [
    {
     "name": "stdout",
     "output_type": "stream",
     "text": [
      "multiplication: 30\n",
      "Exponent: 1000\n",
      "Divison: 0.5\n",
      "Addition: 30\n",
      "substract 10\n",
      "modulo: 0\n",
      "floor divison: 2\n"
     ]
    }
   ],
   "source": [
    "# Arithmetic operator\n",
    "a= 10 \n",
    "b= 20\n",
    "print(\"multiplication:\",10*3)\n",
    "print(\"Exponent:\",10**3)\n",
    "print(\"Divison:\",a/b)\n",
    "print(\"Addition:\",a+b)\n",
    "print(\"substract\",b-a)\n",
    "print(\"modulo:\",b%a)\n",
    "print(\"floor divison:\",b//a)"
   ]
  },
  {
   "cell_type": "code",
   "execution_count": 76,
   "metadata": {},
   "outputs": [
    {
     "data": {
      "text/plain": [
       "False"
      ]
     },
     "execution_count": 76,
     "metadata": {},
     "output_type": "execute_result"
    }
   ],
   "source": [
    "# Comparison operator(true & False)\n",
    "a=10\n",
    "b=20\n",
    "a==b"
   ]
  },
  {
   "cell_type": "code",
   "execution_count": 77,
   "metadata": {},
   "outputs": [
    {
     "data": {
      "text/plain": [
       "True"
      ]
     },
     "execution_count": 77,
     "metadata": {},
     "output_type": "execute_result"
    }
   ],
   "source": [
    "a<b"
   ]
  },
  {
   "cell_type": "code",
   "execution_count": 78,
   "metadata": {},
   "outputs": [
    {
     "data": {
      "text/plain": [
       "False"
      ]
     },
     "execution_count": 78,
     "metadata": {},
     "output_type": "execute_result"
    }
   ],
   "source": [
    "a>b"
   ]
  },
  {
   "cell_type": "code",
   "execution_count": 79,
   "metadata": {},
   "outputs": [
    {
     "data": {
      "text/plain": [
       "True"
      ]
     },
     "execution_count": 79,
     "metadata": {},
     "output_type": "execute_result"
    }
   ],
   "source": [
    "a<=b"
   ]
  },
  {
   "cell_type": "code",
   "execution_count": 80,
   "metadata": {},
   "outputs": [
    {
     "data": {
      "text/plain": [
       "False"
      ]
     },
     "execution_count": 80,
     "metadata": {},
     "output_type": "execute_result"
    }
   ],
   "source": [
    "a>=b"
   ]
  },
  {
   "cell_type": "code",
   "execution_count": 81,
   "metadata": {},
   "outputs": [
    {
     "data": {
      "text/plain": [
       "True"
      ]
     },
     "execution_count": 81,
     "metadata": {},
     "output_type": "execute_result"
    }
   ],
   "source": [
    "a!=b"
   ]
  },
  {
   "cell_type": "code",
   "execution_count": 90,
   "metadata": {},
   "outputs": [
    {
     "name": "stdout",
     "output_type": "stream",
     "text": [
      "OR operator: 30\n",
      "AND operator: 0\n",
      "left shif operator: 20\n",
      "Right shif operator: 5\n"
     ]
    }
   ],
   "source": [
    "# Bitwise operator\n",
    "a = 10\n",
    "b = 20\n",
    "print(\"OR operator:\",a|b)\n",
    "print(\"AND operator:\", a&b)\n",
    "print(\"left shif operator:\",a<<1)\n",
    "print(\"Right shif operator:\",a>>1)"
   ]
  },
  {
   "cell_type": "code",
   "execution_count": 107,
   "metadata": {},
   "outputs": [
    {
     "name": "stdout",
     "output_type": "stream",
     "text": [
      "False\n"
     ]
    }
   ],
   "source": [
    "#Logical Operator\n",
    "#1.AND Operator\n",
    "a=20\n",
    "b=30\n",
    "print(a<30 and b>50)"
   ]
  },
  {
   "cell_type": "code",
   "execution_count": 95,
   "metadata": {},
   "outputs": [
    {
     "name": "stdout",
     "output_type": "stream",
     "text": [
      "True\n"
     ]
    }
   ],
   "source": [
    "a=20\n",
    "b=30\n",
    "print(a>10 and b<50)"
   ]
  },
  {
   "cell_type": "code",
   "execution_count": 106,
   "metadata": {},
   "outputs": [
    {
     "name": "stdout",
     "output_type": "stream",
     "text": [
      "True\n"
     ]
    }
   ],
   "source": [
    "#2.OR operator\n",
    "a=20\n",
    "b=30\n",
    "print(a>10 or b<50)"
   ]
  },
  {
   "cell_type": "code",
   "execution_count": 105,
   "metadata": {},
   "outputs": [
    {
     "name": "stdout",
     "output_type": "stream",
     "text": [
      "False\n"
     ]
    }
   ],
   "source": [
    "#3.NOt operator\n",
    "x = 5\n",
    "\n",
    "print(not(x > 3 and x < 10))"
   ]
  },
  {
   "cell_type": "code",
   "execution_count": 100,
   "metadata": {},
   "outputs": [
    {
     "name": "stdout",
     "output_type": "stream",
     "text": [
      "False\n"
     ]
    }
   ],
   "source": [
    "# Membership operator\n",
    "# 1.IN Operator\n",
    "x = [\"Letsupgrade\", \"Python\"]\n",
    "\n",
    "print(\"python\" in x)"
   ]
  },
  {
   "cell_type": "code",
   "execution_count": 102,
   "metadata": {},
   "outputs": [
    {
     "name": "stdout",
     "output_type": "stream",
     "text": [
      "True\n"
     ]
    }
   ],
   "source": [
    "#N2.OT IN Operator\n",
    "x = [\"Letsupgrade\", \"Python\"]\n",
    "\n",
    "print(\"omkar\" not in x)"
   ]
  },
  {
   "cell_type": "code",
   "execution_count": 109,
   "metadata": {},
   "outputs": [
    {
     "name": "stdout",
     "output_type": "stream",
     "text": [
      "True\n"
     ]
    }
   ],
   "source": [
    "#Identity Operator\n",
    "#1.IS operator\n",
    "x = [\"Letsupgrade\", \"python\"]\n",
    "y = [\"Letsupgrade\", \"python\"]\n",
    "z = x\n",
    "\n",
    "print(x is z)\n"
   ]
  },
  {
   "cell_type": "code",
   "execution_count": 104,
   "metadata": {},
   "outputs": [
    {
     "name": "stdout",
     "output_type": "stream",
     "text": [
      "False\n"
     ]
    }
   ],
   "source": [
    "#2.IS NOT operator\n",
    "x = [\"Letsupgrade\", \"python\"]\n",
    "y = [\"Letsupgrade\", \"python\"]\n",
    "z = x\n",
    "\n",
    "print(x is not z)"
   ]
  },
  {
   "cell_type": "markdown",
   "metadata": {},
   "source": [
    "# Python is a case-sensitive language.\n",
    "# Python use PEMDAS rule"
   ]
  }
 ],
 "metadata": {
  "kernelspec": {
   "display_name": "Python 3",
   "language": "python",
   "name": "python3"
  },
  "language_info": {
   "codemirror_mode": {
    "name": "ipython",
    "version": 3
   },
   "file_extension": ".py",
   "mimetype": "text/x-python",
   "name": "python",
   "nbconvert_exporter": "python",
   "pygments_lexer": "ipython3",
   "version": "3.7.6"
  }
 },
 "nbformat": 4,
 "nbformat_minor": 4
}
